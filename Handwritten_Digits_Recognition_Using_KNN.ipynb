{
  "nbformat": 4,
  "nbformat_minor": 0,
  "metadata": {
    "kernelspec": {
      "display_name": "Python 3",
      "language": "python",
      "name": "python3"
    },
    "language_info": {
      "codemirror_mode": {
        "name": "ipython",
        "version": 3
      },
      "file_extension": ".py",
      "mimetype": "text/x-python",
      "name": "python",
      "nbconvert_exporter": "python",
      "pygments_lexer": "ipython3",
      "version": "3.8.5"
    },
    "colab": {
      "name": "Handwritten Digits Recognition Using KNN.ipynb",
      "provenance": [],
      "include_colab_link": true
    }
  },
  "cells": [
    {
      "cell_type": "markdown",
      "metadata": {
        "id": "view-in-github",
        "colab_type": "text"
      },
      "source": [
        "<a href=\"https://colab.research.google.com/github/kapilsingh9069/HDR/blob/main/Handwritten_Digits_Recognition_Using_KNN.ipynb\" target=\"_parent\"><img src=\"https://colab.research.google.com/assets/colab-badge.svg\" alt=\"Open In Colab\"/></a>"
      ]
    },
    {
      "cell_type": "markdown",
      "metadata": {
        "id": "KoJzC5v8QHEk"
      },
      "source": [
        "It Is A classification Problem \n",
        " Since We are predicting digits from 0 - 9 , so It Has 10 Categories"
      ]
    },
    {
      "cell_type": "markdown",
      "metadata": {
        "id": "IxHVozOBQHEx"
      },
      "source": [
        "Since we are using grey images of pixel 8x8 \n",
        "Therefore , all together we are usung 64 features in grey images\n",
        "if its a color images then we need to use 64/3 features"
      ]
    },
    {
      "cell_type": "markdown",
      "metadata": {
        "id": "Mng_l1DgQHE1"
      },
      "source": [
        "### Datasets \n",
        "There is  a inbuilt dataset which we can load from Sckit learn library"
      ]
    },
    {
      "cell_type": "code",
      "metadata": {
        "id": "bY7v8zSCQHE2"
      },
      "source": [
        "# Loading  Dataset\n",
        "from sklearn.datasets import load_digits"
      ],
      "execution_count": null,
      "outputs": []
    },
    {
      "cell_type": "code",
      "metadata": {
        "id": "-UEJ1isWQHE6"
      },
      "source": [
        "dataset=load_digits()\n"
      ],
      "execution_count": null,
      "outputs": []
    },
    {
      "cell_type": "code",
      "metadata": {
        "id": "Op6jbodGQHE8"
      },
      "source": [
        "data = dataset.data\n",
        "images = dataset.images\n",
        "target = dataset.target"
      ],
      "execution_count": null,
      "outputs": []
    },
    {
      "cell_type": "code",
      "metadata": {
        "colab": {
          "base_uri": "https://localhost:8080/"
        },
        "id": "gB2TAnC1QHF1",
        "outputId": "a2523370-62d6-4f74-f3d3-6181cb1044d7"
      },
      "source": [
        "print('Data Shape :',dataset.data)\n",
        "print(\"Images Shape:\",dataset.images)\n",
        "print('Target Shape:',dataset.target)"
      ],
      "execution_count": null,
      "outputs": [
        {
          "output_type": "stream",
          "text": [
            "Data Shape : [[ 0.  0.  5. ...  0.  0.  0.]\n",
            " [ 0.  0.  0. ... 10.  0.  0.]\n",
            " [ 0.  0.  0. ... 16.  9.  0.]\n",
            " ...\n",
            " [ 0.  0.  1. ...  6.  0.  0.]\n",
            " [ 0.  0.  2. ... 12.  0.  0.]\n",
            " [ 0.  0. 10. ... 12.  1.  0.]]\n",
            "Images Shape: [[[ 0.  0.  5. ...  1.  0.  0.]\n",
            "  [ 0.  0. 13. ... 15.  5.  0.]\n",
            "  [ 0.  3. 15. ... 11.  8.  0.]\n",
            "  ...\n",
            "  [ 0.  4. 11. ... 12.  7.  0.]\n",
            "  [ 0.  2. 14. ... 12.  0.  0.]\n",
            "  [ 0.  0.  6. ...  0.  0.  0.]]\n",
            "\n",
            " [[ 0.  0.  0. ...  5.  0.  0.]\n",
            "  [ 0.  0.  0. ...  9.  0.  0.]\n",
            "  [ 0.  0.  3. ...  6.  0.  0.]\n",
            "  ...\n",
            "  [ 0.  0.  1. ...  6.  0.  0.]\n",
            "  [ 0.  0.  1. ...  6.  0.  0.]\n",
            "  [ 0.  0.  0. ... 10.  0.  0.]]\n",
            "\n",
            " [[ 0.  0.  0. ... 12.  0.  0.]\n",
            "  [ 0.  0.  3. ... 14.  0.  0.]\n",
            "  [ 0.  0.  8. ... 16.  0.  0.]\n",
            "  ...\n",
            "  [ 0.  9. 16. ...  0.  0.  0.]\n",
            "  [ 0.  3. 13. ... 11.  5.  0.]\n",
            "  [ 0.  0.  0. ... 16.  9.  0.]]\n",
            "\n",
            " ...\n",
            "\n",
            " [[ 0.  0.  1. ...  1.  0.  0.]\n",
            "  [ 0.  0. 13. ...  2.  1.  0.]\n",
            "  [ 0.  0. 16. ... 16.  5.  0.]\n",
            "  ...\n",
            "  [ 0.  0. 16. ... 15.  0.  0.]\n",
            "  [ 0.  0. 15. ... 16.  0.  0.]\n",
            "  [ 0.  0.  2. ...  6.  0.  0.]]\n",
            "\n",
            " [[ 0.  0.  2. ...  0.  0.  0.]\n",
            "  [ 0.  0. 14. ... 15.  1.  0.]\n",
            "  [ 0.  4. 16. ... 16.  7.  0.]\n",
            "  ...\n",
            "  [ 0.  0.  0. ... 16.  2.  0.]\n",
            "  [ 0.  0.  4. ... 16.  2.  0.]\n",
            "  [ 0.  0.  5. ... 12.  0.  0.]]\n",
            "\n",
            " [[ 0.  0. 10. ...  1.  0.  0.]\n",
            "  [ 0.  2. 16. ...  1.  0.  0.]\n",
            "  [ 0.  0. 15. ... 15.  0.  0.]\n",
            "  ...\n",
            "  [ 0.  4. 16. ... 16.  6.  0.]\n",
            "  [ 0.  8. 16. ... 16.  8.  0.]\n",
            "  [ 0.  1.  8. ... 12.  1.  0.]]]\n",
            "Target Shape: [0 1 2 ... 8 9 8]\n"
          ],
          "name": "stdout"
        }
      ]
    },
    {
      "cell_type": "code",
      "metadata": {
        "colab": {
          "base_uri": "https://localhost:8080/"
        },
        "id": "tjzbmO-1QHF4",
        "outputId": "ab6fc74f-6a21-4888-e36d-3a063d16137a"
      },
      "source": [
        "print('Data Shape :',data.shape)      ## it has 1797 rows and 64 columns\n",
        "print(\"Images Shape:\",images.shape)   ## it has 1797 images of size 8x8(resolution)\n",
        "print('Target Shape:',target.shape)    ## One Dimensional Array"
      ],
      "execution_count": null,
      "outputs": [
        {
          "output_type": "stream",
          "text": [
            "Data Shape : (1797, 64)\n",
            "Images Shape: (1797, 8, 8)\n",
            "Target Shape: (1797,)\n"
          ],
          "name": "stdout"
        }
      ]
    },
    {
      "cell_type": "code",
      "metadata": {
        "colab": {
          "base_uri": "https://localhost:8080/"
        },
        "id": "QtJYkNHdQHF6",
        "outputId": "ee71d315-832a-4be3-aa1b-17974da6f14d"
      },
      "source": [
        "print(data[:10,:])"
      ],
      "execution_count": null,
      "outputs": [
        {
          "output_type": "stream",
          "text": [
            "[[ 0.  0.  5. 13.  9.  1.  0.  0.  0.  0. 13. 15. 10. 15.  5.  0.  0.  3.\n",
            "  15.  2.  0. 11.  8.  0.  0.  4. 12.  0.  0.  8.  8.  0.  0.  5.  8.  0.\n",
            "   0.  9.  8.  0.  0.  4. 11.  0.  1. 12.  7.  0.  0.  2. 14.  5. 10. 12.\n",
            "   0.  0.  0.  0.  6. 13. 10.  0.  0.  0.]\n",
            " [ 0.  0.  0. 12. 13.  5.  0.  0.  0.  0.  0. 11. 16.  9.  0.  0.  0.  0.\n",
            "   3. 15. 16.  6.  0.  0.  0.  7. 15. 16. 16.  2.  0.  0.  0.  0.  1. 16.\n",
            "  16.  3.  0.  0.  0.  0.  1. 16. 16.  6.  0.  0.  0.  0.  1. 16. 16.  6.\n",
            "   0.  0.  0.  0.  0. 11. 16. 10.  0.  0.]\n",
            " [ 0.  0.  0.  4. 15. 12.  0.  0.  0.  0.  3. 16. 15. 14.  0.  0.  0.  0.\n",
            "   8. 13.  8. 16.  0.  0.  0.  0.  1.  6. 15. 11.  0.  0.  0.  1.  8. 13.\n",
            "  15.  1.  0.  0.  0.  9. 16. 16.  5.  0.  0.  0.  0.  3. 13. 16. 16. 11.\n",
            "   5.  0.  0.  0.  0.  3. 11. 16.  9.  0.]\n",
            " [ 0.  0.  7. 15. 13.  1.  0.  0.  0.  8. 13.  6. 15.  4.  0.  0.  0.  2.\n",
            "   1. 13. 13.  0.  0.  0.  0.  0.  2. 15. 11.  1.  0.  0.  0.  0.  0.  1.\n",
            "  12. 12.  1.  0.  0.  0.  0.  0.  1. 10.  8.  0.  0.  0.  8.  4.  5. 14.\n",
            "   9.  0.  0.  0.  7. 13. 13.  9.  0.  0.]\n",
            " [ 0.  0.  0.  1. 11.  0.  0.  0.  0.  0.  0.  7.  8.  0.  0.  0.  0.  0.\n",
            "   1. 13.  6.  2.  2.  0.  0.  0.  7. 15.  0.  9.  8.  0.  0.  5. 16. 10.\n",
            "   0. 16.  6.  0.  0.  4. 15. 16. 13. 16.  1.  0.  0.  0.  0.  3. 15. 10.\n",
            "   0.  0.  0.  0.  0.  2. 16.  4.  0.  0.]\n",
            " [ 0.  0. 12. 10.  0.  0.  0.  0.  0.  0. 14. 16. 16. 14.  0.  0.  0.  0.\n",
            "  13. 16. 15. 10.  1.  0.  0.  0. 11. 16. 16.  7.  0.  0.  0.  0.  0.  4.\n",
            "   7. 16.  7.  0.  0.  0.  0.  0.  4. 16.  9.  0.  0.  0.  5.  4. 12. 16.\n",
            "   4.  0.  0.  0.  9. 16. 16. 10.  0.  0.]\n",
            " [ 0.  0.  0. 12. 13.  0.  0.  0.  0.  0.  5. 16.  8.  0.  0.  0.  0.  0.\n",
            "  13. 16.  3.  0.  0.  0.  0.  0. 14. 13.  0.  0.  0.  0.  0.  0. 15. 12.\n",
            "   7.  2.  0.  0.  0.  0. 13. 16. 13. 16.  3.  0.  0.  0.  7. 16. 11. 15.\n",
            "   8.  0.  0.  0.  1.  9. 15. 11.  3.  0.]\n",
            " [ 0.  0.  7.  8. 13. 16. 15.  1.  0.  0.  7.  7.  4. 11. 12.  0.  0.  0.\n",
            "   0.  0.  8. 13.  1.  0.  0.  4.  8.  8. 15. 15.  6.  0.  0.  2. 11. 15.\n",
            "  15.  4.  0.  0.  0.  0.  0. 16.  5.  0.  0.  0.  0.  0.  9. 15.  1.  0.\n",
            "   0.  0.  0.  0. 13.  5.  0.  0.  0.  0.]\n",
            " [ 0.  0.  9. 14.  8.  1.  0.  0.  0.  0. 12. 14. 14. 12.  0.  0.  0.  0.\n",
            "   9. 10.  0. 15.  4.  0.  0.  0.  3. 16. 12. 14.  2.  0.  0.  0.  4. 16.\n",
            "  16.  2.  0.  0.  0.  3. 16.  8. 10. 13.  2.  0.  0.  1. 15.  1.  3. 16.\n",
            "   8.  0.  0.  0. 11. 16. 15. 11.  1.  0.]\n",
            " [ 0.  0. 11. 12.  0.  0.  0.  0.  0.  2. 16. 16. 16. 13.  0.  0.  0.  3.\n",
            "  16. 12. 10. 14.  0.  0.  0.  1. 16.  1. 12. 15.  0.  0.  0.  0. 13. 16.\n",
            "   9. 15.  2.  0.  0.  0.  0.  3.  0.  9. 11.  0.  0.  0.  0.  0.  9. 15.\n",
            "   4.  0.  0.  0.  9. 12. 13.  3.  0.  0.]]\n"
          ],
          "name": "stdout"
        }
      ]
    },
    {
      "cell_type": "code",
      "metadata": {
        "colab": {
          "base_uri": "https://localhost:8080/"
        },
        "id": "fB2GnffAQHGA",
        "outputId": "400bf560-c794-409b-d699-359af276704d"
      },
      "source": [
        "print(images[:10,:])"
      ],
      "execution_count": null,
      "outputs": [
        {
          "output_type": "stream",
          "text": [
            "[[[ 0.  0.  5. 13.  9.  1.  0.  0.]\n",
            "  [ 0.  0. 13. 15. 10. 15.  5.  0.]\n",
            "  [ 0.  3. 15.  2.  0. 11.  8.  0.]\n",
            "  [ 0.  4. 12.  0.  0.  8.  8.  0.]\n",
            "  [ 0.  5.  8.  0.  0.  9.  8.  0.]\n",
            "  [ 0.  4. 11.  0.  1. 12.  7.  0.]\n",
            "  [ 0.  2. 14.  5. 10. 12.  0.  0.]\n",
            "  [ 0.  0.  6. 13. 10.  0.  0.  0.]]\n",
            "\n",
            " [[ 0.  0.  0. 12. 13.  5.  0.  0.]\n",
            "  [ 0.  0.  0. 11. 16.  9.  0.  0.]\n",
            "  [ 0.  0.  3. 15. 16.  6.  0.  0.]\n",
            "  [ 0.  7. 15. 16. 16.  2.  0.  0.]\n",
            "  [ 0.  0.  1. 16. 16.  3.  0.  0.]\n",
            "  [ 0.  0.  1. 16. 16.  6.  0.  0.]\n",
            "  [ 0.  0.  1. 16. 16.  6.  0.  0.]\n",
            "  [ 0.  0.  0. 11. 16. 10.  0.  0.]]\n",
            "\n",
            " [[ 0.  0.  0.  4. 15. 12.  0.  0.]\n",
            "  [ 0.  0.  3. 16. 15. 14.  0.  0.]\n",
            "  [ 0.  0.  8. 13.  8. 16.  0.  0.]\n",
            "  [ 0.  0.  1.  6. 15. 11.  0.  0.]\n",
            "  [ 0.  1.  8. 13. 15.  1.  0.  0.]\n",
            "  [ 0.  9. 16. 16.  5.  0.  0.  0.]\n",
            "  [ 0.  3. 13. 16. 16. 11.  5.  0.]\n",
            "  [ 0.  0.  0.  3. 11. 16.  9.  0.]]\n",
            "\n",
            " [[ 0.  0.  7. 15. 13.  1.  0.  0.]\n",
            "  [ 0.  8. 13.  6. 15.  4.  0.  0.]\n",
            "  [ 0.  2.  1. 13. 13.  0.  0.  0.]\n",
            "  [ 0.  0.  2. 15. 11.  1.  0.  0.]\n",
            "  [ 0.  0.  0.  1. 12. 12.  1.  0.]\n",
            "  [ 0.  0.  0.  0.  1. 10.  8.  0.]\n",
            "  [ 0.  0.  8.  4.  5. 14.  9.  0.]\n",
            "  [ 0.  0.  7. 13. 13.  9.  0.  0.]]\n",
            "\n",
            " [[ 0.  0.  0.  1. 11.  0.  0.  0.]\n",
            "  [ 0.  0.  0.  7.  8.  0.  0.  0.]\n",
            "  [ 0.  0.  1. 13.  6.  2.  2.  0.]\n",
            "  [ 0.  0.  7. 15.  0.  9.  8.  0.]\n",
            "  [ 0.  5. 16. 10.  0. 16.  6.  0.]\n",
            "  [ 0.  4. 15. 16. 13. 16.  1.  0.]\n",
            "  [ 0.  0.  0.  3. 15. 10.  0.  0.]\n",
            "  [ 0.  0.  0.  2. 16.  4.  0.  0.]]\n",
            "\n",
            " [[ 0.  0. 12. 10.  0.  0.  0.  0.]\n",
            "  [ 0.  0. 14. 16. 16. 14.  0.  0.]\n",
            "  [ 0.  0. 13. 16. 15. 10.  1.  0.]\n",
            "  [ 0.  0. 11. 16. 16.  7.  0.  0.]\n",
            "  [ 0.  0.  0.  4.  7. 16.  7.  0.]\n",
            "  [ 0.  0.  0.  0.  4. 16.  9.  0.]\n",
            "  [ 0.  0.  5.  4. 12. 16.  4.  0.]\n",
            "  [ 0.  0.  9. 16. 16. 10.  0.  0.]]\n",
            "\n",
            " [[ 0.  0.  0. 12. 13.  0.  0.  0.]\n",
            "  [ 0.  0.  5. 16.  8.  0.  0.  0.]\n",
            "  [ 0.  0. 13. 16.  3.  0.  0.  0.]\n",
            "  [ 0.  0. 14. 13.  0.  0.  0.  0.]\n",
            "  [ 0.  0. 15. 12.  7.  2.  0.  0.]\n",
            "  [ 0.  0. 13. 16. 13. 16.  3.  0.]\n",
            "  [ 0.  0.  7. 16. 11. 15.  8.  0.]\n",
            "  [ 0.  0.  1.  9. 15. 11.  3.  0.]]\n",
            "\n",
            " [[ 0.  0.  7.  8. 13. 16. 15.  1.]\n",
            "  [ 0.  0.  7.  7.  4. 11. 12.  0.]\n",
            "  [ 0.  0.  0.  0.  8. 13.  1.  0.]\n",
            "  [ 0.  4.  8.  8. 15. 15.  6.  0.]\n",
            "  [ 0.  2. 11. 15. 15.  4.  0.  0.]\n",
            "  [ 0.  0.  0. 16.  5.  0.  0.  0.]\n",
            "  [ 0.  0.  9. 15.  1.  0.  0.  0.]\n",
            "  [ 0.  0. 13.  5.  0.  0.  0.  0.]]\n",
            "\n",
            " [[ 0.  0.  9. 14.  8.  1.  0.  0.]\n",
            "  [ 0.  0. 12. 14. 14. 12.  0.  0.]\n",
            "  [ 0.  0.  9. 10.  0. 15.  4.  0.]\n",
            "  [ 0.  0.  3. 16. 12. 14.  2.  0.]\n",
            "  [ 0.  0.  4. 16. 16.  2.  0.  0.]\n",
            "  [ 0.  3. 16.  8. 10. 13.  2.  0.]\n",
            "  [ 0.  1. 15.  1.  3. 16.  8.  0.]\n",
            "  [ 0.  0. 11. 16. 15. 11.  1.  0.]]\n",
            "\n",
            " [[ 0.  0. 11. 12.  0.  0.  0.  0.]\n",
            "  [ 0.  2. 16. 16. 16. 13.  0.  0.]\n",
            "  [ 0.  3. 16. 12. 10. 14.  0.  0.]\n",
            "  [ 0.  1. 16.  1. 12. 15.  0.  0.]\n",
            "  [ 0.  0. 13. 16.  9. 15.  2.  0.]\n",
            "  [ 0.  0.  0.  3.  0.  9. 11.  0.]\n",
            "  [ 0.  0.  0.  0.  9. 15.  4.  0.]\n",
            "  [ 0.  0.  9. 12. 13.  3.  0.  0.]]]\n"
          ],
          "name": "stdout"
        }
      ]
    },
    {
      "cell_type": "code",
      "metadata": {
        "colab": {
          "base_uri": "https://localhost:8080/"
        },
        "id": "vVkpYIu8QHGC",
        "outputId": "e86a8c1a-881e-458c-ea96-43eb5de40094"
      },
      "source": [
        "print(target)"
      ],
      "execution_count": null,
      "outputs": [
        {
          "output_type": "stream",
          "text": [
            "[0 1 2 ... 8 9 8]\n"
          ],
          "name": "stdout"
        }
      ]
    },
    {
      "cell_type": "code",
      "metadata": {
        "colab": {
          "base_uri": "https://localhost:8080/",
          "height": 264
        },
        "id": "r1hoRvY1QHGE",
        "outputId": "99e339fe-8cf0-465e-e193-f903df6d8d4a"
      },
      "source": [
        "from matplotlib import pyplot as plt\n",
        "plt.imshow(images[100],cmap='gray');\n",
        "plt.show();"
      ],
      "execution_count": null,
      "outputs": [
        {
          "output_type": "display_data",
          "data": {
            "image/png": "[encoded data removed]",
            "text/plain": [
              "<Figure size 432x288 with 1 Axes>"
            ]
          },
          "metadata": {
            "tags": [],
            "needs_background": "light"
          }
        }
      ]
    },
    {
      "cell_type": "code",
      "metadata": {
        "colab": {
          "base_uri": "https://localhost:8080/"
        },
        "id": "KBYYwQpWQHGI",
        "outputId": "bf57549f-76b9-46fd-f7e4-49df0468037e"
      },
      "source": [
        "print(images[100])                                                                    ## It contains the values of the above images in the rows and column as its a 2D"
      ],
      "execution_count": null,
      "outputs": [
        {
          "output_type": "stream",
          "text": [
            "[[ 0.  0.  0.  2. 13.  0.  0.  0.]\n",
            " [ 0.  0.  0.  8. 15.  0.  0.  0.]\n",
            " [ 0.  0.  5. 16.  5.  2.  0.  0.]\n",
            " [ 0.  0. 15. 12.  1. 16.  4.  0.]\n",
            " [ 0.  4. 16.  2.  9. 16.  8.  0.]\n",
            " [ 0.  0. 10. 14. 16. 16.  4.  0.]\n",
            " [ 0.  0.  0.  0. 13.  8.  0.  0.]\n",
            " [ 0.  0.  0.  0. 13.  6.  0.  0.]]\n"
          ],
          "name": "stdout"
        }
      ]
    },
    {
      "cell_type": "code",
      "metadata": {
        "colab": {
          "base_uri": "https://localhost:8080/"
        },
        "id": "yQ5KgbFQQHGK",
        "outputId": "5c3a926d-4ba8-4cef-8b54-0e81689de8ca"
      },
      "source": [
        "print(data[100])                                                                    ## IT contains the flatten version of the each and every images"
      ],
      "execution_count": null,
      "outputs": [
        {
          "output_type": "stream",
          "text": [
            "[ 0.  0.  0.  2. 13.  0.  0.  0.  0.  0.  0.  8. 15.  0.  0.  0.  0.  0.\n",
            "  5. 16.  5.  2.  0.  0.  0.  0. 15. 12.  1. 16.  4.  0.  0.  4. 16.  2.\n",
            "  9. 16.  8.  0.  0.  0. 10. 14. 16. 16.  4.  0.  0.  0.  0.  0. 13.  8.\n",
            "  0.  0.  0.  0.  0.  0. 13.  6.  0.  0.]\n"
          ],
          "name": "stdout"
        }
      ]
    },
    {
      "cell_type": "code",
      "metadata": {
        "colab": {
          "base_uri": "https://localhost:8080/"
        },
        "id": "oeluJq9MQHGM",
        "outputId": "463bd233-4408-46a0-b9bf-b81052fb8f15"
      },
      "source": [
        "print(target[100])     ## It contains the output or labels of the images"
      ],
      "execution_count": null,
      "outputs": [
        {
          "output_type": "stream",
          "text": [
            "4\n"
          ],
          "name": "stdout"
        }
      ]
    },
    {
      "cell_type": "markdown",
      "metadata": {
        "id": "iDmv-P69QHGQ"
      },
      "source": [
        "The given 8x8 images is flatten .\n",
        "Each row is arranged in one dimensional Array. \n",
        "Thus 8x8 2d becomes 64 one D,We cant apply to a machine \n"
      ]
    },
    {
      "cell_type": "markdown",
      "metadata": {
        "id": "B5-ArpJnQHGS"
      },
      "source": [
        "### Training AND Testing Part"
      ]
    },
    {
      "cell_type": "code",
      "metadata": {
        "id": "33BzbTGTQHGj"
      },
      "source": [
        "from sklearn.model_selection import train_test_split\n",
        "\n",
        "train_data,test_data,train_target,test_target=train_test_split(data,target,test_size=0.2,random_state=10)"
      ],
      "execution_count": null,
      "outputs": []
    },
    {
      "cell_type": "code",
      "metadata": {
        "colab": {
          "base_uri": "https://localhost:8080/"
        },
        "id": "_8ADqDDuQHGk",
        "outputId": "6d79990f-19f5-4289-ad0a-5a2428400976"
      },
      "source": [
        "print(\"Train_data:\",train_data.shape)\n",
        "print(\"Test_data:\",test_data.shape)"
      ],
      "execution_count": null,
      "outputs": [
        {
          "output_type": "stream",
          "text": [
            "Train_data: (1437, 64)\n",
            "Test_data: (360, 64)\n"
          ],
          "name": "stdout"
        }
      ]
    },
    {
      "cell_type": "markdown",
      "metadata": {
        "id": "hEOIfgNQQHGo"
      },
      "source": [
        "### Model Building"
      ]
    },
    {
      "cell_type": "code",
      "metadata": {
        "colab": {
          "base_uri": "https://localhost:8080/"
        },
        "id": "q-3WTflXQHGp",
        "outputId": "26822649-b9ed-402e-cd80-7d50d69aab41"
      },
      "source": [
        "from sklearn.neighbors import KNeighborsClassifier\n",
        "\n",
        "model=KNeighborsClassifier()\n",
        "model.fit(train_data,train_target)"
      ],
      "execution_count": null,
      "outputs": [
        {
          "output_type": "execute_result",
          "data": {
            "text/plain": [
              "KNeighborsClassifier(algorithm='auto', leaf_size=30, metric='minkowski',\n",
              "                     metric_params=None, n_jobs=None, n_neighbors=5, p=2,\n",
              "                     weights='uniform')"
            ]
          },
          "metadata": {
            "tags": []
          },
          "execution_count": 15
        }
      ]
    },
    {
      "cell_type": "code",
      "metadata": {
        "id": "546oCtJkQHGq"
      },
      "source": [
        "predicted_target=model.predict(test_data)"
      ],
      "execution_count": null,
      "outputs": []
    },
    {
      "cell_type": "markdown",
      "metadata": {
        "id": "QS78eB1tQHGt"
      },
      "source": [
        "### Accuracy Score"
      ]
    },
    {
      "cell_type": "code",
      "metadata": {
        "colab": {
          "base_uri": "https://localhost:8080/"
        },
        "id": "7k_yP0LOQHGu",
        "outputId": "46f4a9ed-907b-42b8-8a7d-ab5e8cac07ac"
      },
      "source": [
        "from sklearn.metrics import accuracy_score\n",
        "\n",
        "acc=accuracy_score(test_target,predicted_target)\n",
        "\n",
        "print('accuracy:',acc)"
      ],
      "execution_count": null,
      "outputs": [
        {
          "output_type": "stream",
          "text": [
            "accuracy: 0.9861111111111112\n"
          ],
          "name": "stdout"
        }
      ]
    },
    {
      "cell_type": "code",
      "metadata": {
        "colab": {
          "base_uri": "https://localhost:8080/"
        },
        "id": "iRYgolReQHGv",
        "outputId": "cf56cb21-9bf1-4ebe-dcfd-ae7a4f641f2f"
      },
      "source": [
        "360* 0.98"
      ],
      "execution_count": null,
      "outputs": [
        {
          "output_type": "execute_result",
          "data": {
            "text/plain": [
              "352.8"
            ]
          },
          "metadata": {
            "tags": []
          },
          "execution_count": 18
        }
      ]
    },
    {
      "cell_type": "code",
      "metadata": {
        "colab": {
          "base_uri": "https://localhost:8080/"
        },
        "id": "pyXqjJMkQHGw",
        "outputId": "32cef4a8-4bc9-4fca-84fd-4a28596b6286"
      },
      "source": [
        "import joblib\n",
        "\n",
        "joblib.dump(model,'KNN-Handwritten-Digits-Recognition.sav')"
      ],
      "execution_count": null,
      "outputs": [
        {
          "output_type": "execute_result",
          "data": {
            "text/plain": [
              "['KNN-Handwritten-Digits-Recognition.sav']"
            ]
          },
          "metadata": {
            "tags": []
          },
          "execution_count": 19
        }
      ]
    },
    {
      "cell_type": "code",
      "metadata": {
        "colab": {
          "base_uri": "https://localhost:8080/"
        },
        "id": "spNas3sZRLqV",
        "outputId": "11935206-aa92-4b52-ce49-c76e8627d3be"
      },
      "source": [
        "!pip install opencv-python"
      ],
      "execution_count": null,
      "outputs": [
        {
          "output_type": "stream",
          "text": [
            "Requirement already satisfied: opencv-python in /usr/local/lib/python3.7/dist-packages (4.1.2.30)\n",
            "Requirement already satisfied: numpy>=1.14.5 in /usr/local/lib/python3.7/dist-packages (from opencv-python) (1.19.5)\n"
          ],
          "name": "stdout"
        }
      ]
    },
    {
      "cell_type": "code",
      "metadata": {
        "id": "Uj8qeWh1Ra1b",
        "colab": {
          "base_uri": "https://localhost:8080/",
          "height": 363
        },
        "outputId": "249332e9-17fd-4941-abde-4ab1db0b9230"
      },
      "source": [
        "import tkinter as tk\n",
        "from PIL import ImageTk,Image,ImageDraw\n",
        "from matplotlib import pyplot as plt\n",
        "import cv2                             ## Image processing application\n",
        "import numpy as np\n",
        "import joblib\n",
        "burn =tk.Tk()     #Main Window\n",
        "\n",
        "w=900\n",
        "h=500\n",
        "count = 0\n",
        "model = joblib.load(\"KNN-Handwritten-Digits-Recognition.sav\")\n",
        "\n",
        "def eventFunction(event):\n",
        "    x=event.x\n",
        "    y=event.y\n",
        "    \n",
        "    x1=x-30\n",
        "    x2=x+30\n",
        "    \n",
        "    y1=y-30\n",
        "    y2=y+30\n",
        "    \n",
        "    canvas.create_oval((x1,y1,x2,y2),fill='black')    ## Whenever er draw an image in canvas it dutomatically draws \n",
        "    imgDraw.ellipse((x1,y1,x2,y2),fill=\"white\")       ## the same image in image also\n",
        "    \n",
        "def save():\n",
        "    global count\n",
        "    #print(\"Here\")\n",
        "    imgArray=np.array(img)             ## Converting image into numpy array\n",
        "    cv2.imwrite(str(count)+'.png',imgArray)  ## saving the file in opencv in the current path \n",
        "    count+=1\n",
        "    \n",
        "def clear():\n",
        "    global img,imgDraw\n",
        "    canvas.delete('all')                    ## Clearing The Canvas \n",
        "    img = Image.new(\"RGB\",(w,h),(0,0,0))    ## Load the imaging as as result the previous image is cleared and new image is predicted\n",
        "    imgDraw = ImageDraw.Draw(img)\n",
        "    \n",
        "def predict():\n",
        "    \n",
        "    imgArray=np.array(img)\n",
        "    imgArray=cv2.cvtColor(imgArray,cv2.COLOR_BGR2GRAY) #Converting RGB TO GRAY\n",
        "    imgArray=cv2.resize(imgArray,(8,8))  ## Resizing to 8x8\n",
        "    imgArray=imgArray.reshape(1,64)      ## Flattening the image\n",
        "    prediction=model.predict(imgArray)\n",
        "    #print(prediction)\n",
        "    labelStatus.config(text=\"Predicited Digit:\"+str(prediction))\n",
        "    \n",
        "fontButton = 'Helvetica 20 bold'\n",
        "fontLabel = 'Helvetica 24 bold'\n",
        "\n",
        "canvas = tk.Canvas(burn,width=w,height=h,bg=\"white\")         ## Calling method for the canvas \n",
        "\n",
        "canvas.grid(row=0,column=0,columnspan=4)     ## Placing of Canvas in respective row and column is  done using grid\n",
        "                                            ## ColumnSpan Divides the row(width) into 4 equal parts or simply it keeps spaces \n",
        "                                            ## for the buttons\n",
        "                                                     \n",
        "\n",
        "\n",
        "## Adding Of fOUR Buttons Namely  Save, Predict , Clear And Exit\n",
        "\n",
        "buttonSave=tk.Button(burn,text=\"SAVE\",bg=\"White\",fg=\"black\",font=fontButton,command = save)  \n",
        "buttonSave.grid(row=1,column=0)                                                              ## Placing it in 1st row\n",
        "\n",
        "buttonPredict=tk.Button(burn,text=\"Predict\",bg=\"white\",fg=\"black\",font=fontButton,command=predict)\n",
        "buttonPredict.grid(row=1,column=1)\n",
        "\n",
        "buttonClear=tk.Button(burn,text=\"Clear\",bg=\"white\",fg=\"black\",font=fontButton,command=clear)\n",
        "buttonClear.grid(row=1,column=2)\n",
        "\n",
        "buttonExit=tk.Button(burn,text=\"Exit\",bg=\"white\",fg=\"black\",font=fontButton,command=burn.destroy)\n",
        "buttonExit.grid(row=1,column=3)\n",
        "\n",
        "labelStatus=tk.Label(burn,text=\"Predicted Digit: None\",bg=\"white\",fg=\"black\",font=fontLabel)\n",
        "labelStatus.grid(row=2,column=0,columnspan=4)\n",
        "\n",
        "canvas.bind('<B1-Motion>',eventFunction)\n",
        "\n",
        "img = Image.new(\"RGB\",(w,h),(0,0,0))  ## Creates piloow images RGB is the coloured image , width and height, (0,0,0)is the black background ,\n",
        "imgDraw = ImageDraw.Draw(img)         ## its creating a black image bcoz images from the datasets are bg=black and fg=white\n",
        "## Whenever we pass  any digits or alphabets we need to use as bg=black and fg = white\n",
        "## Because it saves time\n",
        "burn.mainloop()   # Runing the Main Window"
      ],
      "execution_count": null,
      "outputs": [
        {
          "output_type": "error",
          "ename": "TclError",
          "evalue": "ignored",
          "traceback": [
            "\u001b[0;31m---------------------------------------------------------------------------\u001b[0m",
            "\u001b[0;31mTclError\u001b[0m                                  Traceback (most recent call last)",
            "\u001b[0;32m<ipython-input-21-1a6470254e49>\u001b[0m in \u001b[0;36m<module>\u001b[0;34m()\u001b[0m\n\u001b[1;32m      5\u001b[0m \u001b[0;32mimport\u001b[0m \u001b[0mnumpy\u001b[0m \u001b[0;32mas\u001b[0m \u001b[0mnp\u001b[0m\u001b[0;34m\u001b[0m\u001b[0;34m\u001b[0m\u001b[0m\n\u001b[1;32m      6\u001b[0m \u001b[0;32mimport\u001b[0m \u001b[0mjoblib\u001b[0m\u001b[0;34m\u001b[0m\u001b[0;34m\u001b[0m\u001b[0m\n\u001b[0;32m----> 7\u001b[0;31m \u001b[0mburn\u001b[0m \u001b[0;34m=\u001b[0m\u001b[0mtk\u001b[0m\u001b[0;34m.\u001b[0m\u001b[0mTk\u001b[0m\u001b[0;34m(\u001b[0m\u001b[0;34m)\u001b[0m     \u001b[0;31m#Main Window\u001b[0m\u001b[0;34m\u001b[0m\u001b[0;34m\u001b[0m\u001b[0m\n\u001b[0m\u001b[1;32m      8\u001b[0m \u001b[0;34m\u001b[0m\u001b[0m\n\u001b[1;32m      9\u001b[0m \u001b[0mw\u001b[0m\u001b[0;34m=\u001b[0m\u001b[0;36m900\u001b[0m\u001b[0;34m\u001b[0m\u001b[0;34m\u001b[0m\u001b[0m\n",
            "\u001b[0;32m/usr/lib/python3.7/tkinter/__init__.py\u001b[0m in \u001b[0;36m__init__\u001b[0;34m(self, screenName, baseName, className, useTk, sync, use)\u001b[0m\n\u001b[1;32m   2021\u001b[0m                 \u001b[0mbaseName\u001b[0m \u001b[0;34m=\u001b[0m \u001b[0mbaseName\u001b[0m \u001b[0;34m+\u001b[0m \u001b[0mext\u001b[0m\u001b[0;34m\u001b[0m\u001b[0;34m\u001b[0m\u001b[0m\n\u001b[1;32m   2022\u001b[0m         \u001b[0minteractive\u001b[0m \u001b[0;34m=\u001b[0m \u001b[0;36m0\u001b[0m\u001b[0;34m\u001b[0m\u001b[0;34m\u001b[0m\u001b[0m\n\u001b[0;32m-> 2023\u001b[0;31m         \u001b[0mself\u001b[0m\u001b[0;34m.\u001b[0m\u001b[0mtk\u001b[0m \u001b[0;34m=\u001b[0m \u001b[0m_tkinter\u001b[0m\u001b[0;34m.\u001b[0m\u001b[0mcreate\u001b[0m\u001b[0;34m(\u001b[0m\u001b[0mscreenName\u001b[0m\u001b[0;34m,\u001b[0m \u001b[0mbaseName\u001b[0m\u001b[0;34m,\u001b[0m \u001b[0mclassName\u001b[0m\u001b[0;34m,\u001b[0m \u001b[0minteractive\u001b[0m\u001b[0;34m,\u001b[0m \u001b[0mwantobjects\u001b[0m\u001b[0;34m,\u001b[0m \u001b[0museTk\u001b[0m\u001b[0;34m,\u001b[0m \u001b[0msync\u001b[0m\u001b[0;34m,\u001b[0m \u001b[0muse\u001b[0m\u001b[0;34m)\u001b[0m\u001b[0;34m\u001b[0m\u001b[0;34m\u001b[0m\u001b[0m\n\u001b[0m\u001b[1;32m   2024\u001b[0m         \u001b[0;32mif\u001b[0m \u001b[0museTk\u001b[0m\u001b[0;34m:\u001b[0m\u001b[0;34m\u001b[0m\u001b[0;34m\u001b[0m\u001b[0m\n\u001b[1;32m   2025\u001b[0m             \u001b[0mself\u001b[0m\u001b[0;34m.\u001b[0m\u001b[0m_loadtk\u001b[0m\u001b[0;34m(\u001b[0m\u001b[0;34m)\u001b[0m\u001b[0;34m\u001b[0m\u001b[0;34m\u001b[0m\u001b[0m\n",
            "\u001b[0;31mTclError\u001b[0m: no display name and no $DISPLAY environment variable"
          ]
        }
      ]
    }
  ]
}