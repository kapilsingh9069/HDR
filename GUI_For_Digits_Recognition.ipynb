{
  "nbformat": 4,
  "nbformat_minor": 0,
  "metadata": {
    "kernelspec": {
      "display_name": "Python 3",
      "language": "python",
      "name": "python3"
    },
    "language_info": {
      "codemirror_mode": {
        "name": "ipython",
        "version": 3
      },
      "file_extension": ".py",
      "mimetype": "text/x-python",
      "name": "python",
      "nbconvert_exporter": "python",
      "pygments_lexer": "ipython3",
      "version": "3.9.1"
    },
    "colab": {
      "name": "GUI For Digits Recognition.ipynb",
      "provenance": [],
      "include_colab_link": true
    }
  },
  "cells": [
    {
      "cell_type": "markdown",
      "metadata": {
        "id": "view-in-github",
        "colab_type": "text"
      },
      "source": [
        "<a href=\"https://colab.research.google.com/github/kapilsingh9069/HDR/blob/main/GUI_For_Digits_Recognition.ipynb\" target=\"_parent\"><img src=\"https://colab.research.google.com/assets/colab-badge.svg\" alt=\"Open In Colab\"/></a>"
      ]
    },
    {
      "cell_type": "code",
      "metadata": {
        "id": "SPF6kEl517tR",
        "outputId": "c46ad745-d30f-43ea-e9d9-91dc53f15df9"
      },
      "source": [
        "!pip install opencv-python"
      ],
      "execution_count": null,
      "outputs": [
        {
          "output_type": "stream",
          "text": [
            "Requirement already satisfied: opencv-python in c:\\python\\lib\\site-packages (4.5.1.48)"
          ],
          "name": "stdout"
        },
        {
          "output_type": "stream",
          "text": [
            "WARNING: Value for scheme.headers does not match. Please report this to <https://github.com/pypa/pip/issues/9617>\n",
            "distutils: c:\\python\\Include\\UNKNOWN\n",
            "sysconfig: c:\\python\\Include\n",
            "WARNING: Additional context:\n",
            "user = False\n",
            "home = None\n",
            "root = None\n",
            "prefix = None\n",
            "WARNING: Value for scheme.headers does not match. Please report this to <https://github.com/pypa/pip/issues/9617>\n",
            "distutils: c:\\python\\Include\\UNKNOWN\n",
            "sysconfig: c:\\python\\Include\n",
            "WARNING: Additional context:\n",
            "user = False\n",
            "home = None\n",
            "root = None\n",
            "prefix = None\n"
          ],
          "name": "stderr"
        },
        {
          "output_type": "stream",
          "text": [
            "\n",
            "Requirement already satisfied: numpy>=1.19.3 in c:\\python\\lib\\site-packages (from opencv-python) (1.20.2)\n"
          ],
          "name": "stdout"
        }
      ]
    },
    {
      "cell_type": "code",
      "metadata": {
        "id": "xwVB_BDP17tk",
        "outputId": "017c2b24-ed6a-45dd-a69a-1df4b35868a9"
      },
      "source": [
        "import tkinter as tk\n",
        "from PIL import ImageTk,Image,ImageDraw\n",
        "from matplotlib import pyplot as plt\n",
        "import cv2                             ## Image processing application\n",
        "import numpy as np\n",
        "import joblib\n",
        "burn =tk.Tk()     #Main Window\n",
        "\n",
        "w=900\n",
        "h=500\n",
        "count = 0\n",
        "model = joblib.load(\"KNN-Handwritten-Digits-Recognition.sav\")\n",
        "\n",
        "def eventFunction(event):\n",
        "    x=event.x\n",
        "    y=event.y\n",
        "    \n",
        "    x1=x-30\n",
        "    x2=x+30\n",
        "    \n",
        "    y1=y-30\n",
        "    y2=y+30\n",
        "    \n",
        "    canvas.create_oval((x1,y1,x2,y2),fill='black')    ## Whenever er draw an image in canvas it dutomatically draws \n",
        "    imgDraw.ellipse((x1,y1,x2,y2),fill=\"white\")       ## the same image in image also\n",
        "    \n",
        "def save():\n",
        "    global count\n",
        "    #print(\"Here\")\n",
        "    imgArray=np.array(img)             ## Converting image into numpy array\n",
        "    cv2.imwrite(str(count)+'.png',imgArray)  ## saving the file in opencv in the current path \n",
        "    count+=1\n",
        "    \n",
        "def clear():\n",
        "    global img,imgDraw\n",
        "    canvas.delete('all')                    ## Clearing The Canvas \n",
        "    img = Image.new(\"RGB\",(w,h),(0,0,0))    ## Load the imaging as as result the previous image is cleared and new image is predicted\n",
        "    imgDraw = ImageDraw.Draw(img)\n",
        "    \n",
        "def predict():\n",
        "    \n",
        "    imgArray=np.array(img)\n",
        "    imgArray=cv2.cvtColor(imgArray,cv2.COLOR_BGR2GRAY) #Converting RGB TO GRAY\n",
        "    imgArray=cv2.resize(imgArray,(8,8))  ## Resizing to 8x8\n",
        "    imgArray=imgArray.reshape(1,64)      ## Flattening the image\n",
        "    prediction=model.predict(imgArray)\n",
        "    #print(prediction)\n",
        "    labelStatus.config(text=\"Predicited Digit:\"+str(prediction))\n",
        "    \n",
        "fontButton = 'Helvetica 20 bold'\n",
        "fontLabel = 'Helvetica 24 bold'\n",
        "\n",
        "canvas = tk.Canvas(burn,width=w,height=h,bg=\"white\")         ## Calling method for the canvas \n",
        "\n",
        "canvas.grid(row=0,column=0,columnspan=4)     ## Placing of Canvas in respective row and column is  done using grid\n",
        "                                            ## ColumnSpan Divides the row(width) into 4 equal parts or simply it keeps spaces \n",
        "                                            ## for the buttons\n",
        "                                                     \n",
        "\n",
        "\n",
        "## Adding Of fOUR Buttons Namely  Save, Predict , Clear And Exit\n",
        "\n",
        "buttonSave=tk.Button(burn,text=\"SAVE\",bg=\"White\",fg=\"black\",font=fontButton,command = save)  \n",
        "buttonSave.grid(row=1,column=0)                                                              ## Placing it in 1st row\n",
        "\n",
        "buttonPredict=tk.Button(burn,text=\"Predict\",bg=\"white\",fg=\"black\",font=fontButton,command=predict)\n",
        "buttonPredict.grid(row=1,column=1)\n",
        "\n",
        "buttonClear=tk.Button(burn,text=\"Clear\",bg=\"white\",fg=\"black\",font=fontButton,command=clear)\n",
        "buttonClear.grid(row=1,column=2)\n",
        "\n",
        "buttonExit=tk.Button(burn,text=\"Exit\",bg=\"white\",fg=\"black\",font=fontButton,command=burn.destroy)\n",
        "buttonExit.grid(row=1,column=3)\n",
        "\n",
        "labelStatus=tk.Label(burn,text=\"Predicted Digit: None\",bg=\"white\",fg=\"black\",font=fontLabel)\n",
        "labelStatus.grid(row=2,column=0,columnspan=4)\n",
        "\n",
        "canvas.bind('<B1-Motion>',eventFunction)\n",
        "\n",
        "img = Image.new(\"RGB\",(w,h),(0,0,0))  ## Creates piloow images RGB is the coloured image , width and height, (0,0,0)is the black background ,\n",
        "imgDraw = ImageDraw.Draw(img)         ## its creating a black image bcoz images from the datasets are bg=black and fg=white\n",
        "## Whenever we pass  any digits or alphabets we need to use as bg=black and fg = white\n",
        "## Because it saves time\n",
        "burn.mainloop()   # Runing the Main Window"
      ],
      "execution_count": null,
      "outputs": [
        {
          "output_type": "stream",
          "text": [
            "c:\\python\\lib\\site-packages\\sklearn\\base.py:310: UserWarning: Trying to unpickle estimator KNeighborsClassifier from version 0.23.2 when using version 0.24.1. This might lead to breaking code or invalid results. Use at your own risk.\n",
            "  warnings.warn(\n"
          ],
          "name": "stderr"
        }
      ]
    },
    {
      "cell_type": "code",
      "metadata": {
        "id": "JA1rdpgl17tn"
      },
      "source": [
        ""
      ],
      "execution_count": null,
      "outputs": []
    },
    {
      "cell_type": "code",
      "metadata": {
        "id": "JCaqQ4yz17to"
      },
      "source": [
        ""
      ],
      "execution_count": null,
      "outputs": []
    }
  ]
}